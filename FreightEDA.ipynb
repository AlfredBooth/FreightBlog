{
 "cells": [
  {
   "cell_type": "code",
   "execution_count": 42,
   "outputs": [],
   "source": [
    "import pandas as pd"
   ],
   "metadata": {
    "collapsed": false
   }
  },
  {
   "cell_type": "markdown",
   "source": [
    "# Questions\n",
    "\n",
    "## Can we employ advanced sampling techniques to increase the size of our dataset for training?\n",
    "## What are the most important factors for estimating charter rates\n",
    "## Are these relationships consistent across vessel types (Capesize, Panamx, etc.)"
   ],
   "metadata": {
    "collapsed": false
   }
  },
  {
   "cell_type": "markdown",
   "source": [
    "# Data Cleaning"
   ],
   "metadata": {
    "collapsed": false
   }
  },
  {
   "cell_type": "code",
   "execution_count": 3,
   "outputs": [
    {
     "data": {
      "text/plain": "  ENTRY DATE WEEK ENDING  ORG CODE PORT OF ORIGIN  DES CODE   DESTINATION  \\\n0  10-Oct-19   12-Oct-19         1   Newport News       7.0  Vizagapatnam   \n1  10-Oct-19   12-Oct-19         2         Mobile       5.0     Rotterdam   \n2  10-Oct-19   12-Oct-19         8  Dalrymple Bay       7.0  Vizagapatnam   \n3  10-Oct-19   12-Oct-19         4         Santos       9.0         China   \n4  10-Oct-19   12-Oct-19         4        Tubarao       9.0       Qingdao   \n\n   VESSEL NAME    SIZE  COMM CODE  COMMODITY      DATES   RATE  \\\n0      STEAMER   75000          1       Coal  Nov 13/22  34.95   \n1  ELETTRA, 09   75000          1       Coal  Oct 25/30  16.85   \n2      STEAMER   75000          1       Coal   Nov 7/16  18.00   \n3      STEAMER   65000          2  Hvy Grain  Oct 15/30  32.75   \n4  SUNBEAM, 00  170000          5   Iron Ore  Oct 12/15  24.25   \n\n                         TERMS    CHARTER  \n0  FIO;40000tSShex/20000tSShex       SAIL  \n1  FIO;25000tShinc/25000tShinc       TKSE  \n2  FIO;35000tSShex/20000tSShex       SAIL  \n3    FIO;8000tsShex/8000tSshex        CNR  \n4   FIO;3DaysShinc/30000tShinc  Trafigura  ",
      "text/html": "<div>\n<style scoped>\n    .dataframe tbody tr th:only-of-type {\n        vertical-align: middle;\n    }\n\n    .dataframe tbody tr th {\n        vertical-align: top;\n    }\n\n    .dataframe thead th {\n        text-align: right;\n    }\n</style>\n<table border=\"1\" class=\"dataframe\">\n  <thead>\n    <tr style=\"text-align: right;\">\n      <th></th>\n      <th>ENTRY DATE</th>\n      <th>WEEK ENDING</th>\n      <th>ORG CODE</th>\n      <th>PORT OF ORIGIN</th>\n      <th>DES CODE</th>\n      <th>DESTINATION</th>\n      <th>VESSEL NAME</th>\n      <th>SIZE</th>\n      <th>COMM CODE</th>\n      <th>COMMODITY</th>\n      <th>DATES</th>\n      <th>RATE</th>\n      <th>TERMS</th>\n      <th>CHARTER</th>\n    </tr>\n  </thead>\n  <tbody>\n    <tr>\n      <th>0</th>\n      <td>10-Oct-19</td>\n      <td>12-Oct-19</td>\n      <td>1</td>\n      <td>Newport News</td>\n      <td>7.0</td>\n      <td>Vizagapatnam</td>\n      <td>STEAMER</td>\n      <td>75000</td>\n      <td>1</td>\n      <td>Coal</td>\n      <td>Nov 13/22</td>\n      <td>34.95</td>\n      <td>FIO;40000tSShex/20000tSShex</td>\n      <td>SAIL</td>\n    </tr>\n    <tr>\n      <th>1</th>\n      <td>10-Oct-19</td>\n      <td>12-Oct-19</td>\n      <td>2</td>\n      <td>Mobile</td>\n      <td>5.0</td>\n      <td>Rotterdam</td>\n      <td>ELETTRA, 09</td>\n      <td>75000</td>\n      <td>1</td>\n      <td>Coal</td>\n      <td>Oct 25/30</td>\n      <td>16.85</td>\n      <td>FIO;25000tShinc/25000tShinc</td>\n      <td>TKSE</td>\n    </tr>\n    <tr>\n      <th>2</th>\n      <td>10-Oct-19</td>\n      <td>12-Oct-19</td>\n      <td>8</td>\n      <td>Dalrymple Bay</td>\n      <td>7.0</td>\n      <td>Vizagapatnam</td>\n      <td>STEAMER</td>\n      <td>75000</td>\n      <td>1</td>\n      <td>Coal</td>\n      <td>Nov 7/16</td>\n      <td>18.00</td>\n      <td>FIO;35000tSShex/20000tSShex</td>\n      <td>SAIL</td>\n    </tr>\n    <tr>\n      <th>3</th>\n      <td>10-Oct-19</td>\n      <td>12-Oct-19</td>\n      <td>4</td>\n      <td>Santos</td>\n      <td>9.0</td>\n      <td>China</td>\n      <td>STEAMER</td>\n      <td>65000</td>\n      <td>2</td>\n      <td>Hvy Grain</td>\n      <td>Oct 15/30</td>\n      <td>32.75</td>\n      <td>FIO;8000tsShex/8000tSshex</td>\n      <td>CNR</td>\n    </tr>\n    <tr>\n      <th>4</th>\n      <td>10-Oct-19</td>\n      <td>12-Oct-19</td>\n      <td>4</td>\n      <td>Tubarao</td>\n      <td>9.0</td>\n      <td>Qingdao</td>\n      <td>SUNBEAM, 00</td>\n      <td>170000</td>\n      <td>5</td>\n      <td>Iron Ore</td>\n      <td>Oct 12/15</td>\n      <td>24.25</td>\n      <td>FIO;3DaysShinc/30000tShinc</td>\n      <td>Trafigura</td>\n    </tr>\n  </tbody>\n</table>\n</div>"
     },
     "execution_count": 3,
     "metadata": {},
     "output_type": "execute_result"
    }
   ],
   "source": [
    "# read and display the dataset as a pandas DataFrame\n",
    "df = pd.read_csv('DailyDatabaseFixtures.csv')\n",
    "df.head()"
   ],
   "metadata": {
    "collapsed": false
   }
  },
  {
   "cell_type": "markdown",
   "source": [
    "Our dataset is small with only 153 rows and many columns containing categorical data types:"
   ],
   "metadata": {
    "collapsed": false
   }
  },
  {
   "cell_type": "code",
   "execution_count": 9,
   "outputs": [
    {
     "data": {
      "text/plain": "(153, 14)"
     },
     "execution_count": 9,
     "metadata": {},
     "output_type": "execute_result"
    }
   ],
   "source": [
    "df.shape"
   ],
   "metadata": {
    "collapsed": false
   }
  },
  {
   "cell_type": "markdown",
   "source": [
    "We therefore want to avoid dropping rows if possible. With this in mind, let's check for missing vales and see if we can impute sensible values instead of dropping anything."
   ],
   "metadata": {
    "collapsed": false
   }
  },
  {
   "cell_type": "code",
   "execution_count": 6,
   "outputs": [
    {
     "data": {
      "text/plain": "Index(['DES CODE', 'TERMS'], dtype='object')"
     },
     "execution_count": 6,
     "metadata": {},
     "output_type": "execute_result"
    }
   ],
   "source": [
    "# check for columns with missing values\n",
    "df.columns[df.isna().any()]"
   ],
   "metadata": {
    "collapsed": false
   }
  },
  {
   "cell_type": "code",
   "execution_count": 10,
   "outputs": [
    {
     "data": {
      "text/plain": "   ENTRY DATE WEEK ENDING  ORG CODE    PORT OF ORIGIN  DES CODE DESTINATION  \\\n19  10-Oct-19   12-Oct-19         4  Del EC SoAmerica       NaN       Redel   \n\n           VESSEL NAME   SIZE  COMM CODE COMMODITY      DATES       RATE  \\\n19  OLYMPIC GALAXY, 09  81383          7   14k/36t  Oct 28/31  18000 Day   \n\n                           TERMS  CHARTER  \n19  3389700GrnBl;TO+$800000Bonus  Fractal  ",
      "text/html": "<div>\n<style scoped>\n    .dataframe tbody tr th:only-of-type {\n        vertical-align: middle;\n    }\n\n    .dataframe tbody tr th {\n        vertical-align: top;\n    }\n\n    .dataframe thead th {\n        text-align: right;\n    }\n</style>\n<table border=\"1\" class=\"dataframe\">\n  <thead>\n    <tr style=\"text-align: right;\">\n      <th></th>\n      <th>ENTRY DATE</th>\n      <th>WEEK ENDING</th>\n      <th>ORG CODE</th>\n      <th>PORT OF ORIGIN</th>\n      <th>DES CODE</th>\n      <th>DESTINATION</th>\n      <th>VESSEL NAME</th>\n      <th>SIZE</th>\n      <th>COMM CODE</th>\n      <th>COMMODITY</th>\n      <th>DATES</th>\n      <th>RATE</th>\n      <th>TERMS</th>\n      <th>CHARTER</th>\n    </tr>\n  </thead>\n  <tbody>\n    <tr>\n      <th>19</th>\n      <td>10-Oct-19</td>\n      <td>12-Oct-19</td>\n      <td>4</td>\n      <td>Del EC SoAmerica</td>\n      <td>NaN</td>\n      <td>Redel</td>\n      <td>OLYMPIC GALAXY, 09</td>\n      <td>81383</td>\n      <td>7</td>\n      <td>14k/36t</td>\n      <td>Oct 28/31</td>\n      <td>18000 Day</td>\n      <td>3389700GrnBl;TO+$800000Bonus</td>\n      <td>Fractal</td>\n    </tr>\n  </tbody>\n</table>\n</div>"
     },
     "execution_count": 10,
     "metadata": {},
     "output_type": "execute_result"
    }
   ],
   "source": [
    "# One location has a missing destination code as their destination is listed only as Redel (i.e. redelivery)\n",
    "df.loc[df['DES CODE'].isna()]"
   ],
   "metadata": {
    "collapsed": false
   }
  },
  {
   "cell_type": "code",
   "execution_count": 23,
   "outputs": [
    {
     "data": {
      "text/plain": "    DES CODE             DESTINATION\n11       9.0             Redel China\n12       8.0       Redel Philippines\n13       5.0         Redel Continent\n14       7.0         Redel Sri Lanka\n15       9.0  Redel China ViaECIndia\n17       9.0        Redel Sing/Japan\n18       9.0          Redel So China\n19       0.0            Redel Unrptd\n23       9.0        Redel Youngheung",
      "text/html": "<div>\n<style scoped>\n    .dataframe tbody tr th:only-of-type {\n        vertical-align: middle;\n    }\n\n    .dataframe tbody tr th {\n        vertical-align: top;\n    }\n\n    .dataframe thead th {\n        text-align: right;\n    }\n</style>\n<table border=\"1\" class=\"dataframe\">\n  <thead>\n    <tr style=\"text-align: right;\">\n      <th></th>\n      <th>DES CODE</th>\n      <th>DESTINATION</th>\n    </tr>\n  </thead>\n  <tbody>\n    <tr>\n      <th>11</th>\n      <td>9.0</td>\n      <td>Redel China</td>\n    </tr>\n    <tr>\n      <th>12</th>\n      <td>8.0</td>\n      <td>Redel Philippines</td>\n    </tr>\n    <tr>\n      <th>13</th>\n      <td>5.0</td>\n      <td>Redel Continent</td>\n    </tr>\n    <tr>\n      <th>14</th>\n      <td>7.0</td>\n      <td>Redel Sri Lanka</td>\n    </tr>\n    <tr>\n      <th>15</th>\n      <td>9.0</td>\n      <td>Redel China ViaECIndia</td>\n    </tr>\n    <tr>\n      <th>17</th>\n      <td>9.0</td>\n      <td>Redel Sing/Japan</td>\n    </tr>\n    <tr>\n      <th>18</th>\n      <td>9.0</td>\n      <td>Redel So China</td>\n    </tr>\n    <tr>\n      <th>19</th>\n      <td>0.0</td>\n      <td>Redel Unrptd</td>\n    </tr>\n    <tr>\n      <th>23</th>\n      <td>9.0</td>\n      <td>Redel Youngheung</td>\n    </tr>\n  </tbody>\n</table>\n</div>"
     },
     "execution_count": 23,
     "metadata": {},
     "output_type": "execute_result"
    }
   ],
   "source": [
    "# Taking a look at other possible allocations for this spurious row\n",
    "df.loc[df['DESTINATION'].str.contains('Redel'), ['DES CODE', 'DESTINATION']].drop_duplicates()"
   ],
   "metadata": {
    "collapsed": false
   }
  },
  {
   "cell_type": "code",
   "execution_count": 14,
   "outputs": [],
   "source": [
    "# Since there is another destination for redelivery unreported, lets fill this NaN with the same code and destination value as other unreported records:\n",
    "df.loc[df['DES CODE'].isna(), ['DES CODE', 'DESTINATION']] = df.loc[df['DESTINATION'] == 'Redel Unrptd', ['DES CODE', 'DESTINATION']].values[0]"
   ],
   "metadata": {
    "collapsed": false
   }
  },
  {
   "cell_type": "code",
   "execution_count": 16,
   "outputs": [
    {
     "data": {
      "text/plain": "   ENTRY DATE WEEK ENDING  ORG CODE    PORT OF ORIGIN  DES CODE   DESTINATION  \\\n19  10-Oct-19   12-Oct-19         4  Del EC SoAmerica       0.0  Redel Unrptd   \n\n           VESSEL NAME   SIZE  COMM CODE COMMODITY      DATES       RATE  \\\n19  OLYMPIC GALAXY, 09  81383          7   14k/36t  Oct 28/31  18000 Day   \n\n                           TERMS  CHARTER  \n19  3389700GrnBl;TO+$800000Bonus  Fractal  ",
      "text/html": "<div>\n<style scoped>\n    .dataframe tbody tr th:only-of-type {\n        vertical-align: middle;\n    }\n\n    .dataframe tbody tr th {\n        vertical-align: top;\n    }\n\n    .dataframe thead th {\n        text-align: right;\n    }\n</style>\n<table border=\"1\" class=\"dataframe\">\n  <thead>\n    <tr style=\"text-align: right;\">\n      <th></th>\n      <th>ENTRY DATE</th>\n      <th>WEEK ENDING</th>\n      <th>ORG CODE</th>\n      <th>PORT OF ORIGIN</th>\n      <th>DES CODE</th>\n      <th>DESTINATION</th>\n      <th>VESSEL NAME</th>\n      <th>SIZE</th>\n      <th>COMM CODE</th>\n      <th>COMMODITY</th>\n      <th>DATES</th>\n      <th>RATE</th>\n      <th>TERMS</th>\n      <th>CHARTER</th>\n    </tr>\n  </thead>\n  <tbody>\n    <tr>\n      <th>19</th>\n      <td>10-Oct-19</td>\n      <td>12-Oct-19</td>\n      <td>4</td>\n      <td>Del EC SoAmerica</td>\n      <td>0.0</td>\n      <td>Redel Unrptd</td>\n      <td>OLYMPIC GALAXY, 09</td>\n      <td>81383</td>\n      <td>7</td>\n      <td>14k/36t</td>\n      <td>Oct 28/31</td>\n      <td>18000 Day</td>\n      <td>3389700GrnBl;TO+$800000Bonus</td>\n      <td>Fractal</td>\n    </tr>\n  </tbody>\n</table>\n</div>"
     },
     "execution_count": 16,
     "metadata": {},
     "output_type": "execute_result"
    }
   ],
   "source": [
    "df.loc[df['VESSEL NAME'] == 'OLYMPIC GALAXY, 09']"
   ],
   "metadata": {
    "collapsed": false
   }
  },
  {
   "cell_type": "code",
   "execution_count": 28,
   "outputs": [
    {
     "data": {
      "text/plain": "       RATE TERMS\n26      RNR   NaN\n32     W130   NaN\n36     W155   NaN\n37      RNR   NaN\n38     W138   NaN\n..      ...   ...\n144     RNR   NaN\n147  W137.5   NaN\n150     RNR   NaN\n151     RNR   NaN\n152    W145   NaN\n\n[63 rows x 2 columns]",
      "text/html": "<div>\n<style scoped>\n    .dataframe tbody tr th:only-of-type {\n        vertical-align: middle;\n    }\n\n    .dataframe tbody tr th {\n        vertical-align: top;\n    }\n\n    .dataframe thead th {\n        text-align: right;\n    }\n</style>\n<table border=\"1\" class=\"dataframe\">\n  <thead>\n    <tr style=\"text-align: right;\">\n      <th></th>\n      <th>RATE</th>\n      <th>TERMS</th>\n    </tr>\n  </thead>\n  <tbody>\n    <tr>\n      <th>26</th>\n      <td>RNR</td>\n      <td>NaN</td>\n    </tr>\n    <tr>\n      <th>32</th>\n      <td>W130</td>\n      <td>NaN</td>\n    </tr>\n    <tr>\n      <th>36</th>\n      <td>W155</td>\n      <td>NaN</td>\n    </tr>\n    <tr>\n      <th>37</th>\n      <td>RNR</td>\n      <td>NaN</td>\n    </tr>\n    <tr>\n      <th>38</th>\n      <td>W138</td>\n      <td>NaN</td>\n    </tr>\n    <tr>\n      <th>...</th>\n      <td>...</td>\n      <td>...</td>\n    </tr>\n    <tr>\n      <th>144</th>\n      <td>RNR</td>\n      <td>NaN</td>\n    </tr>\n    <tr>\n      <th>147</th>\n      <td>W137.5</td>\n      <td>NaN</td>\n    </tr>\n    <tr>\n      <th>150</th>\n      <td>RNR</td>\n      <td>NaN</td>\n    </tr>\n    <tr>\n      <th>151</th>\n      <td>RNR</td>\n      <td>NaN</td>\n    </tr>\n    <tr>\n      <th>152</th>\n      <td>W145</td>\n      <td>NaN</td>\n    </tr>\n  </tbody>\n</table>\n<p>63 rows × 2 columns</p>\n</div>"
     },
     "execution_count": 28,
     "metadata": {},
     "output_type": "execute_result"
    }
   ],
   "source": [
    "# Typically in freight, rates are given in World Scale rather than in a specific currency unit.\n",
    "# Notice that in almost all cases where TERMS in null, rates are either not provided or are in world scale (W) which implies that TERMS provides some additional information to help us standardise rates which are not already in world scale\n",
    "df.loc[df['TERMS'].isna(), ['RATE', 'TERMS']]"
   ],
   "metadata": {
    "collapsed": false
   }
  },
  {
   "cell_type": "code",
   "execution_count": 27,
   "outputs": [
    {
     "data": {
      "text/plain": "       RATE                        TERMS\n0     34.95  FIO;40000tSShex/20000tSShex\n1     16.85  FIO;25000tShinc/25000tShinc\n2     18.00  FIO;35000tSShex/20000tSShex\n3     32.75    FIO;8000tsShex/8000tSshex\n4     24.25   FIO;3DaysShinc/30000tShinc\n..      ...                          ...\n143  180000        LS:;OpHongKong$325000\n145  410000                     Lump Sum\n146     RNR                          PtC\n148  455000                 PtC;Lump Sum\n149  420000                     Lump Sum\n\n[90 rows x 2 columns]",
      "text/html": "<div>\n<style scoped>\n    .dataframe tbody tr th:only-of-type {\n        vertical-align: middle;\n    }\n\n    .dataframe tbody tr th {\n        vertical-align: top;\n    }\n\n    .dataframe thead th {\n        text-align: right;\n    }\n</style>\n<table border=\"1\" class=\"dataframe\">\n  <thead>\n    <tr style=\"text-align: right;\">\n      <th></th>\n      <th>RATE</th>\n      <th>TERMS</th>\n    </tr>\n  </thead>\n  <tbody>\n    <tr>\n      <th>0</th>\n      <td>34.95</td>\n      <td>FIO;40000tSShex/20000tSShex</td>\n    </tr>\n    <tr>\n      <th>1</th>\n      <td>16.85</td>\n      <td>FIO;25000tShinc/25000tShinc</td>\n    </tr>\n    <tr>\n      <th>2</th>\n      <td>18.00</td>\n      <td>FIO;35000tSShex/20000tSShex</td>\n    </tr>\n    <tr>\n      <th>3</th>\n      <td>32.75</td>\n      <td>FIO;8000tsShex/8000tSshex</td>\n    </tr>\n    <tr>\n      <th>4</th>\n      <td>24.25</td>\n      <td>FIO;3DaysShinc/30000tShinc</td>\n    </tr>\n    <tr>\n      <th>...</th>\n      <td>...</td>\n      <td>...</td>\n    </tr>\n    <tr>\n      <th>143</th>\n      <td>180000</td>\n      <td>LS:;OpHongKong$325000</td>\n    </tr>\n    <tr>\n      <th>145</th>\n      <td>410000</td>\n      <td>Lump Sum</td>\n    </tr>\n    <tr>\n      <th>146</th>\n      <td>RNR</td>\n      <td>PtC</td>\n    </tr>\n    <tr>\n      <th>148</th>\n      <td>455000</td>\n      <td>PtC;Lump Sum</td>\n    </tr>\n    <tr>\n      <th>149</th>\n      <td>420000</td>\n      <td>Lump Sum</td>\n    </tr>\n  </tbody>\n</table>\n<p>90 rows × 2 columns</p>\n</div>"
     },
     "execution_count": 27,
     "metadata": {},
     "output_type": "execute_result"
    }
   ],
   "source": [
    "# Note that lump sum rates appear as either Lump Sum or LS in TERMS\n",
    "df.loc[df['TERMS'].notna(), ['RATE', 'TERMS']]"
   ],
   "metadata": {
    "collapsed": false
   }
  },
  {
   "cell_type": "code",
   "execution_count": 31,
   "outputs": [],
   "source": [
    "# Our column of interest is RATE, so lets remove rows where RATE appears only as RNR (i.e. is withheld)\n",
    "df = df.loc[df['RATE'] != 'RNR'].reset_index(drop=True)\n",
    "\n",
    "# All of our data also refers to the same date, so we can drop the ENTRY DATE column\n",
    "df = df.drop(columns = 'ENTRY DATE')"
   ],
   "metadata": {
    "collapsed": false
   }
  },
  {
   "cell_type": "code",
   "execution_count": 43,
   "outputs": [
    {
     "data": {
      "text/plain": "0       34.95\n1       16.85\n2       18.00\n3       32.75\n4       24.25\n        ...  \n131    410000\n132    W137.5\n133    455000\n134    420000\n135      W145\nName: RATE, Length: 136, dtype: object"
     },
     "execution_count": 43,
     "metadata": {},
     "output_type": "execute_result"
    }
   ],
   "source": [
    "# We need to make RATE a single unit and convert the datatype to either int or float, appropriately\n",
    "df.RATE"
   ],
   "metadata": {
    "collapsed": false
   }
  }
 ],
 "metadata": {
  "kernelspec": {
   "display_name": "Python 3",
   "language": "python",
   "name": "python3"
  },
  "language_info": {
   "codemirror_mode": {
    "name": "ipython",
    "version": 2
   },
   "file_extension": ".py",
   "mimetype": "text/x-python",
   "name": "python",
   "nbconvert_exporter": "python",
   "pygments_lexer": "ipython2",
   "version": "2.7.6"
  }
 },
 "nbformat": 4,
 "nbformat_minor": 0
}
